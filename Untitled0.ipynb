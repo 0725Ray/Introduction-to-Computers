{
  "nbformat": 4,
  "nbformat_minor": 0,
  "metadata": {
    "colab": {
      "name": "Untitled0.ipynb",
      "provenance": [],
      "authorship_tag": "ABX9TyN6AY+KVDOV+PiEreZxIgwV",
      "include_colab_link": true
    },
    "kernelspec": {
      "name": "python3",
      "display_name": "Python 3"
    },
    "language_info": {
      "name": "python"
    }
  },
  "cells": [
    {
      "cell_type": "markdown",
      "metadata": {
        "id": "view-in-github",
        "colab_type": "text"
      },
      "source": [
        "<a href=\"https://colab.research.google.com/github/0725Ray/Introduction-to-Computers/blob/main/Untitled0.ipynb\" target=\"_parent\"><img src=\"https://colab.research.google.com/assets/colab-badge.svg\" alt=\"Open In Colab\"/></a>"
      ]
    },
    {
      "cell_type": "code",
      "execution_count": 3,
      "metadata": {
        "colab": {
          "base_uri": "https://localhost:8080/"
        },
        "id": "ZBaLA36MApbq",
        "outputId": "d8b51b44-ce62-4909-fba4-7a5ae66099b1"
      },
      "outputs": [
        {
          "output_type": "stream",
          "name": "stdout",
          "text": [
            "輸入消費者身上有的錢150\n",
            "可購買手機\n"
          ]
        }
      ],
      "source": [
        "money=input(\"輸入消費者身上有的錢\")\n",
        "if(int(money)<100):\n",
        "  print(\"金額不足\")\n",
        "elif(int(money)>=100):\n",
        "  print(\"可購買手機\")\n",
        "elif(int(money)>=200):\n",
        "  print(\"可購買平板\")\n",
        "elif(int(money)>=300):\n",
        "  print(\"可購買驗腦\")"
      ]
    }
  ]
}