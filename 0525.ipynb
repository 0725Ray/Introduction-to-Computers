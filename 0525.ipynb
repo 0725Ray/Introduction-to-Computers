{
  "nbformat": 4,
  "nbformat_minor": 0,
  "metadata": {
    "colab": {
      "name": "0525.ipynb",
      "provenance": [],
      "authorship_tag": "ABX9TyN7DJCZhSYYU3/htKqVHKbS",
      "include_colab_link": true
    },
    "kernelspec": {
      "name": "python3",
      "display_name": "Python 3"
    },
    "language_info": {
      "name": "python"
    }
  },
  "cells": [
    {
      "cell_type": "markdown",
      "metadata": {
        "id": "view-in-github",
        "colab_type": "text"
      },
      "source": [
        "<a href=\"https://colab.research.google.com/github/0725Ray/Introduction-to-Computers/blob/main/0525.ipynb\" target=\"_parent\"><img src=\"https://colab.research.google.com/assets/colab-badge.svg\" alt=\"Open In Colab\"/></a>"
      ]
    },
    {
      "cell_type": "code",
      "execution_count": 1,
      "metadata": {
        "colab": {
          "base_uri": "https://localhost:8080/"
        },
        "id": "kXLtYApEB9ML",
        "outputId": "884db490-122b-419c-eff6-cc947c0704b4"
      },
      "outputs": [
        {
          "output_type": "stream",
          "name": "stdout",
          "text": [
            "test\n"
          ]
        }
      ],
      "source": [
        "print(\"test\")"
      ]
    },
    {
      "cell_type": "code",
      "source": [
        "sum=0\n",
        "test=int(input(\"請輸入一個正整數:\"))\n",
        "for m in range(1,test+1):\n",
        "    sum=sum+m\n",
        "    print(\"1到\"+str(m)+\"的整數何為:\",sum)"
      ],
      "metadata": {
        "colab": {
          "base_uri": "https://localhost:8080/"
        },
        "id": "SyUJEEQjI00f",
        "outputId": "f271a641-02ab-44e2-c47b-079bb2e14ef7"
      },
      "execution_count": 8,
      "outputs": [
        {
          "output_type": "stream",
          "name": "stdout",
          "text": [
            "請輸入一個正整數:50\n",
            "1到1的整數何為: 1\n",
            "1到2的整數何為: 3\n",
            "1到3的整數何為: 6\n",
            "1到4的整數何為: 10\n",
            "1到5的整數何為: 15\n",
            "1到6的整數何為: 21\n",
            "1到7的整數何為: 28\n",
            "1到8的整數何為: 36\n",
            "1到9的整數何為: 45\n",
            "1到10的整數何為: 55\n",
            "1到11的整數何為: 66\n",
            "1到12的整數何為: 78\n",
            "1到13的整數何為: 91\n",
            "1到14的整數何為: 105\n",
            "1到15的整數何為: 120\n",
            "1到16的整數何為: 136\n",
            "1到17的整數何為: 153\n",
            "1到18的整數何為: 171\n",
            "1到19的整數何為: 190\n",
            "1到20的整數何為: 210\n",
            "1到21的整數何為: 231\n",
            "1到22的整數何為: 253\n",
            "1到23的整數何為: 276\n",
            "1到24的整數何為: 300\n",
            "1到25的整數何為: 325\n",
            "1到26的整數何為: 351\n",
            "1到27的整數何為: 378\n",
            "1到28的整數何為: 406\n",
            "1到29的整數何為: 435\n",
            "1到30的整數何為: 465\n",
            "1到31的整數何為: 496\n",
            "1到32的整數何為: 528\n",
            "1到33的整數何為: 561\n",
            "1到34的整數何為: 595\n",
            "1到35的整數何為: 630\n",
            "1到36的整數何為: 666\n",
            "1到37的整數何為: 703\n",
            "1到38的整數何為: 741\n",
            "1到39的整數何為: 780\n",
            "1到40的整數何為: 820\n",
            "1到41的整數何為: 861\n",
            "1到42的整數何為: 903\n",
            "1到43的整數何為: 946\n",
            "1到44的整數何為: 990\n",
            "1到45的整數何為: 1035\n",
            "1到46的整數何為: 1081\n",
            "1到47的整數何為: 1128\n",
            "1到48的整數何為: 1176\n",
            "1到49的整數何為: 1225\n",
            "1到50的整數何為: 1275\n"
          ]
        }
      ]
    },
    {
      "cell_type": "code",
      "source": [
        "for j in range(1,5):\n",
        "    print(j)\n",
        "    for i in range(1,3):\n",
        "        k=i*j\n",
        "        print(j,\"*\",i,\"=\",k)"
      ],
      "metadata": {
        "colab": {
          "base_uri": "https://localhost:8080/"
        },
        "id": "3Y19MSuMJrSq",
        "outputId": "8de85280-0109-4638-8cc3-d01fec27d612"
      },
      "execution_count": 17,
      "outputs": [
        {
          "output_type": "stream",
          "name": "stdout",
          "text": [
            "1\n",
            "1 * 1 = 1\n",
            "1 * 2 = 2\n",
            "2\n",
            "2 * 1 = 2\n",
            "2 * 2 = 4\n",
            "3\n",
            "3 * 1 = 3\n",
            "3 * 2 = 6\n",
            "4\n",
            "4 * 1 = 4\n",
            "4 * 2 = 8\n"
          ]
        }
      ]
    },
    {
      "cell_type": "code",
      "source": [
        "for j in range(1,6):\n",
        "    print(j)\n",
        "    for i in range(1,3):\n",
        "        k=i*j\n",
        "        print(j,\"*\",i,\"=\",k)"
      ],
      "metadata": {
        "colab": {
          "base_uri": "https://localhost:8080/"
        },
        "id": "4JAFXPWKMsWW",
        "outputId": "fbaffd73-d251-4833-8bf8-d6348f8b5062"
      },
      "execution_count": 18,
      "outputs": [
        {
          "output_type": "stream",
          "name": "stdout",
          "text": [
            "1\n",
            "1 * 1 = 1\n",
            "1 * 2 = 2\n",
            "2\n",
            "2 * 1 = 2\n",
            "2 * 2 = 4\n",
            "3\n",
            "3 * 1 = 3\n",
            "3 * 2 = 6\n",
            "4\n",
            "4 * 1 = 4\n",
            "4 * 2 = 8\n",
            "5\n",
            "5 * 1 = 5\n",
            "5 * 2 = 10\n"
          ]
        }
      ]
    },
    {
      "cell_type": "code",
      "source": [
        "for i in range(1,5):\n",
        "    if(i==4):\n",
        "        break\n",
        "    print(i,end=\" \")"
      ],
      "metadata": {
        "colab": {
          "base_uri": "https://localhost:8080/"
        },
        "id": "IQpXFWQlM-oe",
        "outputId": "9421aa8c-9941-4c9f-98bd-039b19e55127"
      },
      "execution_count": 20,
      "outputs": [
        {
          "output_type": "stream",
          "name": "stdout",
          "text": [
            "1 2 3 "
          ]
        }
      ]
    },
    {
      "cell_type": "code",
      "source": [
        "count=0\n",
        "for string in \"hello!\":\n",
        "    count+=1\n",
        "    if string==\"o\":\n",
        "        break\n",
        "    print(string)\n",
        "print(\"迴圈結束\")\n",
        "print(\"迴圈執行了 %d 次\" %count)\n"
      ],
      "metadata": {
        "colab": {
          "base_uri": "https://localhost:8080/"
        },
        "id": "6oPsauxxNYTK",
        "outputId": "03a79b09-94f8-4336-e3e5-6a1443b25b1e"
      },
      "execution_count": 31,
      "outputs": [
        {
          "output_type": "stream",
          "name": "stdout",
          "text": [
            "h\n",
            "e\n",
            "l\n",
            "l\n",
            "迴圈結束\n",
            "迴圈執行了 5 次\n"
          ]
        }
      ]
    },
    {
      "cell_type": "code",
      "source": [
        "count=0\n",
        "for string in \"測試看看\":\n",
        "    count+=1\n",
        "    if string==\"看\":\n",
        "        break\n",
        "    print(string)\n",
        "print(\"迴圈結束\")\n",
        "print(\"迴圈執行了 %d 次\" %count)"
      ],
      "metadata": {
        "colab": {
          "base_uri": "https://localhost:8080/"
        },
        "id": "A0hbFavUPQTX",
        "outputId": "f0879c06-65a5-4ef4-88d4-0b094ca69bb4"
      },
      "execution_count": 32,
      "outputs": [
        {
          "output_type": "stream",
          "name": "stdout",
          "text": [
            "測\n",
            "試\n",
            "迴圈結束\n",
            "迴圈執行了 3 次\n"
          ]
        }
      ]
    },
    {
      "cell_type": "code",
      "source": [
        "for j in range(2,10):\n",
        "    for i in range(1,10):\n",
        "        k=i*j\n",
        "        print(j,\"*\",i,\"=\",k,\"\\t\",end=\"  \")\n",
        "    print(\" \")"
      ],
      "metadata": {
        "colab": {
          "base_uri": "https://localhost:8080/"
        },
        "id": "XgKk-lRkOi2Y",
        "outputId": "64bdd8d8-2863-4d33-9a5d-ab1c2e6e8218"
      },
      "execution_count": 36,
      "outputs": [
        {
          "output_type": "stream",
          "name": "stdout",
          "text": [
            "2 * 1 = 2 \t  2 * 2 = 4 \t  2 * 3 = 6 \t  2 * 4 = 8 \t  2 * 5 = 10 \t  2 * 6 = 12 \t  2 * 7 = 14 \t  2 * 8 = 16 \t  2 * 9 = 18 \t   \n",
            "3 * 1 = 3 \t  3 * 2 = 6 \t  3 * 3 = 9 \t  3 * 4 = 12 \t  3 * 5 = 15 \t  3 * 6 = 18 \t  3 * 7 = 21 \t  3 * 8 = 24 \t  3 * 9 = 27 \t   \n",
            "4 * 1 = 4 \t  4 * 2 = 8 \t  4 * 3 = 12 \t  4 * 4 = 16 \t  4 * 5 = 20 \t  4 * 6 = 24 \t  4 * 7 = 28 \t  4 * 8 = 32 \t  4 * 9 = 36 \t   \n",
            "5 * 1 = 5 \t  5 * 2 = 10 \t  5 * 3 = 15 \t  5 * 4 = 20 \t  5 * 5 = 25 \t  5 * 6 = 30 \t  5 * 7 = 35 \t  5 * 8 = 40 \t  5 * 9 = 45 \t   \n",
            "6 * 1 = 6 \t  6 * 2 = 12 \t  6 * 3 = 18 \t  6 * 4 = 24 \t  6 * 5 = 30 \t  6 * 6 = 36 \t  6 * 7 = 42 \t  6 * 8 = 48 \t  6 * 9 = 54 \t   \n",
            "7 * 1 = 7 \t  7 * 2 = 14 \t  7 * 3 = 21 \t  7 * 4 = 28 \t  7 * 5 = 35 \t  7 * 6 = 42 \t  7 * 7 = 49 \t  7 * 8 = 56 \t  7 * 9 = 63 \t   \n",
            "8 * 1 = 8 \t  8 * 2 = 16 \t  8 * 3 = 24 \t  8 * 4 = 32 \t  8 * 5 = 40 \t  8 * 6 = 48 \t  8 * 7 = 56 \t  8 * 8 = 64 \t  8 * 9 = 72 \t   \n",
            "9 * 1 = 9 \t  9 * 2 = 18 \t  9 * 3 = 27 \t  9 * 4 = 36 \t  9 * 5 = 45 \t  9 * 6 = 54 \t  9 * 7 = 63 \t  9 * 8 = 72 \t  9 * 9 = 81 \t   \n"
          ]
        }
      ]
    },
    {
      "cell_type": "code",
      "source": [
        "a=int(input(\"請輸入請a的值:\"))\n",
        "b=int(input(\"請輸入請b的值:\"))\n",
        "for i in range(1,(a*b)+1):\n",
        "    if(i%a==0 and i%b==0):\n",
        "        break\n",
        "print(a,\"和\",b,\"的最小公倍數=\",i)\n",
        "\n"
      ],
      "metadata": {
        "colab": {
          "base_uri": "https://localhost:8080/"
        },
        "id": "Kgl50-ZyRHtT",
        "outputId": "ec86f68a-f2de-40a6-8510-d30c2fdb9b9f"
      },
      "execution_count": 39,
      "outputs": [
        {
          "output_type": "stream",
          "name": "stdout",
          "text": [
            "請輸入請a的值:4\n",
            "請輸入請b的值:6\n",
            "4 和 6 的最小公倍數= 12\n"
          ]
        }
      ]
    },
    {
      "cell_type": "code",
      "source": [
        "a=int(input(\"請輸入請a的值:\"))\n",
        "b=int(input(\"請輸入請b的值:\"))\n",
        "for i in range(1,(a*b)+1):\n",
        "    if(i%a==0 and i%b==0):\n",
        "        break\n",
        "print(a,\"和\",b,\"的最小公倍數=\",i)\n",
        "\n"
      ],
      "metadata": {
        "colab": {
          "base_uri": "https://localhost:8080/"
        },
        "id": "SJAlCcKHSDmv",
        "outputId": "ba05bf5f-06a3-4dfd-e92e-a403438613da"
      },
      "execution_count": 40,
      "outputs": [
        {
          "output_type": "stream",
          "name": "stdout",
          "text": [
            "請輸入請a的值:9\n",
            "請輸入請b的值:15\n",
            "9 和 15 的最小公倍數= 45\n"
          ]
        }
      ]
    }
  ]
}