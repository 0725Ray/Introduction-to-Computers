{
  "nbformat": 4,
  "nbformat_minor": 0,
  "metadata": {
    "colab": {
      "name": "Untitled2.ipynb",
      "provenance": [],
      "authorship_tag": "ABX9TyPuckT++uHP7AV5bA1Z+a8s",
      "include_colab_link": true
    },
    "kernelspec": {
      "name": "python3",
      "display_name": "Python 3"
    },
    "language_info": {
      "name": "python"
    }
  },
  "cells": [
    {
      "cell_type": "markdown",
      "metadata": {
        "id": "view-in-github",
        "colab_type": "text"
      },
      "source": [
        "<a href=\"https://colab.research.google.com/github/0725Ray/Introduction-to-Computers/blob/main/Untitled2.ipynb\" target=\"_parent\"><img src=\"https://colab.research.google.com/assets/colab-badge.svg\" alt=\"Open In Colab\"/></a>"
      ]
    },
    {
      "cell_type": "code",
      "execution_count": 2,
      "metadata": {
        "id": "YZYN5mDGvoIv"
      },
      "outputs": [],
      "source": [
        "str1=\"吳志雄好醜\""
      ]
    },
    {
      "cell_type": "code",
      "source": [
        "print(\"早上好\",\"同學好\",\"打起精神來\")"
      ],
      "metadata": {
        "colab": {
          "base_uri": "https://localhost:8080/"
        },
        "id": "VzSPV7pywhn4",
        "outputId": "5a77363b-1f53-4ca2-f620-1371b0daa5ae"
      },
      "execution_count": 7,
      "outputs": [
        {
          "output_type": "stream",
          "name": "stdout",
          "text": [
            "早上好 同學好 打起精神來\n"
          ]
        }
      ]
    },
    {
      "cell_type": "code",
      "source": [
        "str1"
      ],
      "metadata": {
        "colab": {
          "base_uri": "https://localhost:8080/",
          "height": 37
        },
        "id": "apw3sVeKxeRp",
        "outputId": "4fda98be-d052-4d13-c9c8-3ae2a7eeb80a"
      },
      "execution_count": 8,
      "outputs": [
        {
          "output_type": "execute_result",
          "data": {
            "text/plain": [
              "'吳志雄好醜'"
            ],
            "application/vnd.google.colaboratory.intrinsic+json": {
              "type": "string"
            }
          },
          "metadata": {},
          "execution_count": 8
        }
      ]
    },
    {
      "cell_type": "code",
      "source": [
        "print(\"早上好\",\"同學好\",\"打起精神來\",sep='_',end='!')"
      ],
      "metadata": {
        "colab": {
          "base_uri": "https://localhost:8080/"
        },
        "id": "fVFdMzcxx381",
        "outputId": "55fd5b0e-65c6-4fea-b417-4738682a7134"
      },
      "execution_count": 9,
      "outputs": [
        {
          "output_type": "stream",
          "name": "stdout",
          "text": [
            "早上好_同學好_打起精神來!"
          ]
        }
      ]
    },
    {
      "cell_type": "code",
      "source": [
        "print(\"早上好\",\"同學好\",\"打起精神來!\",sep='\\n')"
      ],
      "metadata": {
        "colab": {
          "base_uri": "https://localhost:8080/"
        },
        "id": "vyeIVquoygMy",
        "outputId": "cd4bad2d-9d1b-4525-992b-45346c6ffcdb"
      },
      "execution_count": 11,
      "outputs": [
        {
          "output_type": "stream",
          "name": "stdout",
          "text": [
            "早上好\n",
            "同學好\n",
            "打起精神來!\n"
          ]
        }
      ]
    },
    {
      "cell_type": "code",
      "source": [
        "test1=input('輸入')"
      ],
      "metadata": {
        "colab": {
          "base_uri": "https://localhost:8080/"
        },
        "id": "0SKR5ozDykyl",
        "outputId": "f9c3376f-1bbb-4051-fc01-3e691e71ab04"
      },
      "execution_count": 15,
      "outputs": [
        {
          "name": "stdout",
          "output_type": "stream",
          "text": [
            "輸入100\n"
          ]
        }
      ]
    },
    {
      "cell_type": "code",
      "source": [
        "int(test1)+1"
      ],
      "metadata": {
        "colab": {
          "base_uri": "https://localhost:8080/"
        },
        "id": "mmv9WP5E0th8",
        "outputId": "99986e1b-037f-44d9-c1a6-e075b9d6ae4f"
      },
      "execution_count": 17,
      "outputs": [
        {
          "output_type": "execute_result",
          "data": {
            "text/plain": [
              "101"
            ]
          },
          "metadata": {},
          "execution_count": 17
        }
      ]
    },
    {
      "cell_type": "code",
      "source": [
        "test2=int(input(\"請輸入國文成績\"))\n",
        "test3=int(input(\"請輸入數學成績\"))\n",
        "test4=int(input(\"請輸入英文成績\"))\n",
        "print(\"你的成績總分為:\",)\n",
        "print(test2+test3+test4,\"分\")"
      ],
      "metadata": {
        "colab": {
          "base_uri": "https://localhost:8080/"
        },
        "id": "QyUu2HFt0wt6",
        "outputId": "7bfb2f3b-20a0-4157-d5c5-3e67132ef43d"
      },
      "execution_count": 26,
      "outputs": [
        {
          "output_type": "stream",
          "name": "stdout",
          "text": [
            "請輸入國文成績30\n",
            "請輸入數學成績20\n",
            "請輸入英文成績10\n",
            "你的成績總分為:\n",
            "60 分\n"
          ]
        }
      ]
    },
    {
      "cell_type": "code",
      "source": [
        "32%5"
      ],
      "metadata": {
        "colab": {
          "base_uri": "https://localhost:8080/"
        },
        "id": "vF166vJb1pkl",
        "outputId": "4a2d058a-1f30-4958-a452-65879ee11d76"
      },
      "execution_count": 1,
      "outputs": [
        {
          "output_type": "execute_result",
          "data": {
            "text/plain": [
              "2"
            ]
          },
          "metadata": {},
          "execution_count": 1
        }
      ]
    },
    {
      "cell_type": "code",
      "source": [
        "32//5"
      ],
      "metadata": {
        "colab": {
          "base_uri": "https://localhost:8080/"
        },
        "id": "PuDOMvEnl7pB",
        "outputId": "4e305bc7-aed6-4cc6-86cf-e8773353ca5e"
      },
      "execution_count": 2,
      "outputs": [
        {
          "output_type": "execute_result",
          "data": {
            "text/plain": [
              "6"
            ]
          },
          "metadata": {},
          "execution_count": 2
        }
      ]
    },
    {
      "cell_type": "code",
      "source": [
        "7**3"
      ],
      "metadata": {
        "colab": {
          "base_uri": "https://localhost:8080/"
        },
        "id": "F2X7HY72mAn-",
        "outputId": "fefb14a5-3c96-4446-8088-6fe32bd233de"
      },
      "execution_count": 3,
      "outputs": [
        {
          "output_type": "execute_result",
          "data": {
            "text/plain": [
              "343"
            ]
          },
          "metadata": {},
          "execution_count": 3
        }
      ]
    },
    {
      "cell_type": "code",
      "source": [
        "上底=int(input(\"請輸入上底長度：\"))\n",
        "下底=int(input(\"請輸入下底長度：\"))\n",
        "高=int(input(\"請輸入高度：\"))\n",
        "面積=(上底+下底)*高/2\n",
        "print(\"梯形上底長度為：\",上底,\"梯形下底長度為：\",下底,\"梯形高度為：\",高,\"梯形面積為：\",面積)"
      ],
      "metadata": {
        "colab": {
          "base_uri": "https://localhost:8080/"
        },
        "id": "hyR1LvDOoD-6",
        "outputId": "835a8750-0e2b-40c2-99b6-e7e826a8ae39"
      },
      "execution_count": 17,
      "outputs": [
        {
          "output_type": "stream",
          "name": "stdout",
          "text": [
            "請輸入上底長度：3\n",
            "請輸入下底長度：4\n",
            "請輸入高度：3\n",
            "梯形上底長度為： 3 梯形下底長度為： 4 梯形高度為： 3 梯形面積為： 10.5\n"
          ]
        }
      ]
    }
  ]
}