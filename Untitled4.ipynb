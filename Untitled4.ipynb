{
  "nbformat": 4,
  "nbformat_minor": 0,
  "metadata": {
    "colab": {
      "name": "Untitled4.ipynb",
      "provenance": [],
      "authorship_tag": "ABX9TyOPzzXyqZpr21LFOilqGGhn",
      "include_colab_link": true
    },
    "kernelspec": {
      "name": "python3",
      "display_name": "Python 3"
    },
    "language_info": {
      "name": "python"
    }
  },
  "cells": [
    {
      "cell_type": "markdown",
      "metadata": {
        "id": "view-in-github",
        "colab_type": "text"
      },
      "source": [
        "<a href=\"https://colab.research.google.com/github/0725Ray/Introduction-to-Computers/blob/main/Untitled4.ipynb\" target=\"_parent\"><img src=\"https://colab.research.google.com/assets/colab-badge.svg\" alt=\"Open In Colab\"/></a>"
      ]
    },
    {
      "cell_type": "code",
      "execution_count": 1,
      "metadata": {
        "colab": {
          "base_uri": "https://localhost:8080/"
        },
        "id": "ZdG6eE4YvFdO",
        "outputId": "53b442ff-9461-4bcb-841b-3028abd10604"
      },
      "outputs": [
        {
          "output_type": "stream",
          "name": "stdout",
          "text": [
            "test\n"
          ]
        }
      ],
      "source": [
        "print(\"test\")"
      ]
    },
    {
      "cell_type": "code",
      "source": [
        "temp=float(input(\"請輸入你的體溫\"))\n",
        "if temp>=37.5:\n",
        "  print(\"體溫過高！\")\n",
        "elif temp>=37and temp<37.4:\n",
        "  print(\"體溫略高！\")\n",
        "elif temp>=34and temp<36.9:\n",
        "  print(\"體溫正常！\")\n",
        "else:\n",
        "  print(\"體溫異常,請重新測量！\")"
      ],
      "metadata": {
        "colab": {
          "base_uri": "https://localhost:8080/"
        },
        "id": "v8_yu1gNvnuC",
        "outputId": "a6a744a2-f406-4acc-e916-980b5e119fa9"
      },
      "execution_count": 2,
      "outputs": [
        {
          "output_type": "stream",
          "name": "stdout",
          "text": [
            "請輸入你的體溫37.5\n",
            "體溫過高！\n"
          ]
        }
      ]
    },
    {
      "cell_type": "code",
      "source": [
        "money=int(input(\"請輸入購物金額：\"))\n",
        "if(money>=10000):\n",
        "  if(money>=100000):\n",
        "    print(\"八折\",money*0.8,end=\"元\\n\")\n",
        "  elif(money>=50000):\n",
        "    print(\"八五折\",money*0.85,end=\"元\\n\")\n",
        "  elif(money>=30000):\n",
        "    print(\"九折\",money*0.9,end=\"元\\n\")\n",
        "  else:\n",
        "    print(\"九五折\",money*0.95,end=\"元\\n\")\n",
        "else:\n",
        "  print(\"沒打折\",money,end=\"元\\n\") "
      ],
      "metadata": {
        "colab": {
          "base_uri": "https://localhost:8080/"
        },
        "id": "e1lqWYBPw-wS",
        "outputId": "819ae197-4fd9-4907-f636-b9e1de805d93"
      },
      "execution_count": 3,
      "outputs": [
        {
          "output_type": "stream",
          "name": "stdout",
          "text": [
            "請輸入購物金額：50000\n",
            "八五折 42500.0元\n"
          ]
        }
      ]
    },
    {
      "cell_type": "code",
      "source": [
        "成績=float(input(\"請輸入成績\"))\n",
        "if(成績>60):\n",
        "  if(成績>=90):\n",
        "    print(\"A\")\n",
        "  elif(成績<90 and 成績>=80):\n",
        "    print(\"B\")\n",
        "  elif(成績>=70 and 成績<80):\n",
        "    print(\"C\")\n",
        "  elif(成績>=60 and 成績<70):\n",
        "    print(\"D\") \n",
        "else:\n",
        "  print(\"E\")  "
      ],
      "metadata": {
        "colab": {
          "base_uri": "https://localhost:8080/"
        },
        "id": "T4ydjux3ymIa",
        "outputId": "4706f5fe-2871-44fb-ebb5-7daabbe61c6c"
      },
      "execution_count": 5,
      "outputs": [
        {
          "output_type": "stream",
          "name": "stdout",
          "text": [
            "請輸入成績50\n",
            "E\n"
          ]
        }
      ]
    },
    {
      "cell_type": "code",
      "source": [
        "month=int(input(\"請輸入月份：\"))\n",
        "if(month==3 or month==4 or month==5):\n",
        "  print(month,\"月是春天！\")\n",
        "elif(month==6 or month==7 or month==8):\n",
        "  print(month,\"月是夏天！\")\n",
        "elif(month==9 or month==10 or month==11):\n",
        "  print(month,\"月是秋天！\")\n",
        "elif(month==12 or month==1 or month==2):\n",
        "  print(month,\"月是冬天！\")\n",
        "else:\n",
        "  print(\"月份不在範圍內\")    "
      ],
      "metadata": {
        "colab": {
          "base_uri": "https://localhost:8080/"
        },
        "id": "zIZ-nJRIzhHN",
        "outputId": "19535b4c-6e08-4a31-cec5-1fec6a8694c5"
      },
      "execution_count": 7,
      "outputs": [
        {
          "output_type": "stream",
          "name": "stdout",
          "text": [
            "請輸入月份：5\n",
            "5 月是春天！\n"
          ]
        }
      ]
    },
    {
      "cell_type": "code",
      "source": [
        "money=int(input(\"請輸入今年收入淨額：\"))\n",
        "if(money>=300000):\n",
        "  if(money>=2000000):\n",
        "    print(\"付稅金額\",money*0.3,end=\"元\\n\")\n",
        "  elif(money>=50000):\n",
        "    print(\"付稅金額\",money*0.21,end=\"元\\n\")\n",
        "  elif(money>=30000):\n",
        "    print(\"付稅金額\",money*0.13,end=\"元\\n\")\n",
        "  else:\n",
        "    print(\"付稅金額\",money*0.06,end=\"元\\n\")\n",
        "else:\n",
        "  print(\"付稅金額\",money*0,end=\"元\\n\") "
      ],
      "metadata": {
        "colab": {
          "base_uri": "https://localhost:8080/"
        },
        "id": "3oPtXcef0zrj",
        "outputId": "5816b2d5-d6c7-470f-d4a6-b8e79904aa98"
      },
      "execution_count": 8,
      "outputs": [
        {
          "output_type": "stream",
          "name": "stdout",
          "text": [
            "請輸入今年收入淨額：2000000\n",
            "付稅金額 600000.0元\n"
          ]
        }
      ]
    },
    {
      "cell_type": "code",
      "source": [
        "money=int(input(\"請輸入今年收入淨額：\"))\n",
        "if(money>=300000):\n",
        "  if(money>=2000000):\n",
        "    print(\"付稅金額\",money*0.3,end=\"元\\n\")\n",
        "  elif(money>=50000):\n",
        "    print(\"付稅金額\",money*0.21,end=\"元\\n\")\n",
        "  elif(money>=30000):\n",
        "    print(\"付稅金額\",money*0.13,end=\"元\\n\")\n",
        "  else:\n",
        "    print(\"付稅金額\",money*0.06,end=\"元\\n\")\n",
        "else:\n",
        "  print(\"付稅金額\",money*0,end=\"元\\n\") "
      ],
      "metadata": {
        "id": "WpOnSTaH1nZ_",
        "outputId": "eca0a8ba-d348-4742-fbc9-0263c3e3cb02",
        "colab": {
          "base_uri": "https://localhost:8080/"
        }
      },
      "execution_count": 9,
      "outputs": [
        {
          "output_type": "stream",
          "name": "stdout",
          "text": [
            "請輸入今年收入淨額：100000\n",
            "付稅金額 0元\n"
          ]
        }
      ]
    }
  ]
}